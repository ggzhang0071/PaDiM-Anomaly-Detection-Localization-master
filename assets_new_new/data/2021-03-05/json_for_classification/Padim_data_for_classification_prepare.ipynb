{
 "cells": [
  {
   "cell_type": "code",
   "execution_count": 1,
   "id": "e9434392-0256-4fd7-9748-04ec10d6b1d1",
   "metadata": {},
   "outputs": [],
   "source": [
    "import os,random,cv2\n",
    "import matplotlib\n",
    "import matplotlib.pyplot as plt"
   ]
  },
  {
   "cell_type": "code",
   "execution_count": 9,
   "id": "c3d68ef1-51e7-42f0-bc29-b5bfd18075b5",
   "metadata": {},
   "outputs": [],
   "source": [
    "classes={\"0\": \"lianjiao\", \"1\": \"shakong\", \"2\": \"guoshi\", \"3\": \"huashang\", \"4\":\"yanghua\", \"5\":\"tongheidian\", \"6\":\"heidian\", \"7\":\"feilinjiao\", \"8\":\"wuzi\", \"9\":\"yiwu\"}\n",
    "image_name=\"Padim_results_image_label_for_classification.txt\"\n",
    "choose_label=[3,8,9]\n",
    "view_dict={}\n",
    "show_size=3\n",
    "num=1\n",
    "with open(image_name,\"r\") as fid:\n",
    "    image_label=fid.readlines()\n",
    "    for line in image_label:\n",
    "        image_name= line.split(\" \")[0]\n",
    "        label= line.split(\" \")[-1].strip()\n",
    "        if int(label)in choose_label:\n",
    "            if label is not in view_dict.keys():\n",
    "                view_dict[label]=[]\n",
    "            else:\n",
    "                view_dict[\"label\"].append(image_name)\n",
    "    slices=random.sample(view_list,show_size**2)\n",
    "    for image_name in slices:\n",
    "        pass\n",
    "        \"\"\"fig = matplotlib.pyplot.gcf()\n",
    "        fig.set_size_inches(15, 15)\n",
    "        plt.tight_layout()\n",
    "        image=cv2.imread(os.path.join(\"/git/PaDiM-master\",image_name))\n",
    "        ax=plt.subplot(show_size,show_size,num)\n",
    "        ax.set_title(classes[str(choose_label)])\n",
    "        plt.imshow(image)\n",
    "        num+=1\"\"\"\n",
    "        \n",
    "            "
   ]
  },
  {
   "cell_type": "code",
   "execution_count": null,
   "id": "265f8244-ca0f-4e53-bcac-b01346541da2",
   "metadata": {},
   "outputs": [],
   "source": [
    "save_image_root=\"/git/PaDiM-master/kangqiang_result/croped_images\"\n",
    "save_folder=\"json_for_classification\"\n",
    "json_file_list=[\"train.json\",\"val.json\",\"test.json\"]\n",
    "save_file_list=[\"train.txt\",\"val.txt\",\"test.txt\"]"
   ]
  },
  {
   "cell_type": "code",
   "execution_count": 5,
   "id": "b972c954-c5af-4317-a85a-1a2dcd250b46",
   "metadata": {},
   "outputs": [
    {
     "name": "stdout",
     "output_type": "stream",
     "text": [
      "Padim_data_for_classification_prepare.ipynb       train.json\n",
      "Padim_results_image_label_for_classification.txt  train.txt\n",
      "image_label_for_classification.txt                val.json\n",
      "test.json                                         val.txt\n",
      "test.txt                                          \u001b[0m\u001b[01;32mview_anomaly_class.py\u001b[0m*\n"
     ]
    }
   ],
   "source": []
  },
  {
   "cell_type": "code",
   "execution_count": null,
   "id": "d7a9ff3b-9383-401c-92b5-18290f61ba1b",
   "metadata": {},
   "outputs": [],
   "source": [
    "for data in data_list:\n",
    "    \n",
    "with open(os.path.join(json_file,save_folder,save_file_list[i]),\"w+\") as fid:\n",
    "        fid.writelines([k[0]+\" \"+str(k[1])+\"\\n\" for k in anomaly_image_path_label_list])\n",
    "        fid.close()"
   ]
  }
 ],
 "metadata": {
  "kernelspec": {
   "display_name": "Python 3",
   "language": "python",
   "name": "python3"
  },
  "language_info": {
   "codemirror_mode": {
    "name": "ipython",
    "version": 3
   },
   "file_extension": ".py",
   "mimetype": "text/x-python",
   "name": "python",
   "nbconvert_exporter": "python",
   "pygments_lexer": "ipython3",
   "version": "3.6.5"
  }
 },
 "nbformat": 4,
 "nbformat_minor": 5
}
