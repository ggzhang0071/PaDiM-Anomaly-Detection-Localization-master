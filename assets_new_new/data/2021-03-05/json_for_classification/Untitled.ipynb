{
 "cells": [
  {
   "cell_type": "code",
   "execution_count": 1,
   "id": "3fcd1edc-d7e5-411c-bdef-7ab8cebe8721",
   "metadata": {},
   "outputs": [],
   "source": [
    "json_path=\"/git/PaDiM-master/assets_new_new/data/2021-03-05/json_for_classification\""
   ]
  },
  {
   "cell_type": "code",
   "execution_count": null,
   "id": "2006fb51-5f1f-40c3-9cce-73e9599829c9",
   "metadata": {},
   "outputs": [],
   "source": [
    "image_label_file=[\"test.txt\"  \"train.txt\"  \"val.txt\"]"
   ]
  }
 ],
 "metadata": {
  "kernelspec": {
   "display_name": "Python 3",
   "language": "python",
   "name": "python3"
  },
  "language_info": {
   "codemirror_mode": {
    "name": "ipython",
    "version": 3
   },
   "file_extension": ".py",
   "mimetype": "text/x-python",
   "name": "python",
   "nbconvert_exporter": "python",
   "pygments_lexer": "ipython3",
   "version": "3.6.5"
  }
 },
 "nbformat": 4,
 "nbformat_minor": 5
}
