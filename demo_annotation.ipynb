{
 "cells": [
  {
   "cell_type": "code",
   "execution_count": null,
   "id": "0774b6d2-79fd-4fb8-89ba-0db76c3fc6ec",
   "metadata": {},
   "outputs": [],
   "source": [
    "from common_lib import DataManager\n",
    "from common_lib import decode_labelme_shape\n",
    "import os.path as osp\n",
    "import cv2\n",
    "import glob\n",
    "import numpy as np\n",
    "from tqdm import tqdm\n",
    "\n",
    "import matplotlib.pyplot as plt\n",
    "\n",
    "image_data_root = '/workspace/dataSet/raw/unsupervised-learning/kangqiang/'\n",
    "\n",
    "data1 = DataManager.from_json('tmp/2021-03-05/train-aug.json')\n",
    "data2 = DataManager.from_json('tmp/2021-03-05/val.json')\n",
    "data3 = DataManager.from_json('tmp/2021-03-05/test.json')\n",
    "data = data1.merge(data2).merge(data3)\n",
    "data = data.filter(lambda rec: len(rec['instances']) > 0)\n",
    "\n",
    "for rec in data:\n",
    "    if '00717DFN-002A-2149-222_0_0_5072_18230' not in rec['info']['image_path']:\n",
    "        continue\n",
    "\n",
    "    img = cv2.imread(osp.join(image_data_root, rec['info']['image_path']))[...,::-1]\n",
    "    assert img is not None, rec\n",
    "\n",
    "    plt.imshow(img)\n",
    "\n",
    "    for inst in rec['instances']:\n",
    "        shapes = np.array(decode_labelme_shape(inst['points']))\n",
    "        x1,y1,x2,y2 = shapes[:,0].min(), shapes[:,1].min(), shapes[:,0].max(), shapes[:,1].max()\n",
    "        plt.plot([x1,x1,x2,x2,x1], [y1, y2, y2, y1, y1])\n",
    "\n",
    "    plt.show()"
   ]
  },
  {
   "cell_type": "code",
   "execution_count": null,
   "id": "b3378f5f-d29a-4af3-8875-711732590c13",
   "metadata": {},
   "outputs": [],
   "source": [
    "results = []\n",
    "pred_data = np.linspace(0,10,100)\n",
    "print(pred_data.shape)\n",
    "degree = [1,3,6,9]\n",
    "for i in degree:\n",
    "    results.append(pred_data[:,np.newaxis])\n"
   ]
  },
  {
   "cell_type": "code",
   "execution_count": null,
   "id": "ac322a40-eb4b-4e41-b8ed-d5dce3958c8e",
   "metadata": {},
   "outputs": [],
   "source": []
  }
 ],
 "metadata": {
  "kernelspec": {
   "display_name": "Python 3",
   "language": "python",
   "name": "python3"
  },
  "language_info": {
   "codemirror_mode": {
    "name": "ipython",
    "version": 3
   },
   "file_extension": ".py",
   "mimetype": "text/x-python",
   "name": "python",
   "nbconvert_exporter": "python",
   "pygments_lexer": "ipython3",
   "version": "3.6.5"
  }
 },
 "nbformat": 4,
 "nbformat_minor": 5
}
